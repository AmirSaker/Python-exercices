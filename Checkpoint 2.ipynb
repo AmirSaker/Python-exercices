{
 "cells": [
  {
   "cell_type": "code",
   "execution_count": 7,
   "id": "214c1461",
   "metadata": {},
   "outputs": [
    {
     "name": "stdout",
     "output_type": "stream",
     "text": [
      "Entrez vôtre nom SAKER\n",
      "Entrez vôtre prénom AMIR\n",
      "SAKER\n",
      "AMIR\n"
     ]
    }
   ],
   "source": [
    "a=input(\"Entrez vôtre nom \") \n",
    "b=input(\"Entrez vôtre prénom \") \n",
    "print(a) \n",
    "print(b)\n",
    "    "
   ]
  },
  {
   "cell_type": "code",
   "execution_count": 1,
   "id": "d8c50c66",
   "metadata": {},
   "outputs": [
    {
     "name": "stdout",
     "output_type": "stream",
     "text": [
      "[2002, 2009, 2016, 2023, 2037, 2044, 2051, 2058, 2072, 2079, 2086, 2093, 2107, 2114, 2121, 2128, 2142, 2149, 2156, 2163, 2177, 2184, 2191, 2198, 2212, 2219, 2226, 2233, 2247, 2254, 2261, 2268, 2282, 2289, 2296, 2303, 2317, 2324, 2331, 2338, 2352, 2359, 2366, 2373, 2387, 2394, 2401, 2408, 2422, 2429, 2436, 2443, 2457, 2464, 2471, 2478, 2492, 2499, 2506, 2513, 2527, 2534, 2541, 2548, 2562, 2569, 2576, 2583, 2597, 2604, 2611, 2618, 2632, 2639, 2646, 2653, 2667, 2674, 2681, 2688, 2702, 2709, 2716, 2723, 2737, 2744, 2751, 2758, 2772, 2779, 2786, 2793, 2807, 2814, 2821, 2828, 2842, 2849, 2856, 2863, 2877, 2884, 2891, 2898, 2912, 2919, 2926, 2933, 2947, 2954, 2961, 2968, 2982, 2989, 2996, 3003, 3017, 3024, 3031, 3038, 3052, 3059, 3066, 3073, 3087, 3094, 3101, 3108, 3122, 3129, 3136, 3143, 3157, 3164, 3171, 3178, 3192, 3199]\n"
     ]
    }
   ],
   "source": [
    " #Write a program that will find all numbers which are divisible by 7 but are not a multiple of 5, \n",
    "#between 2000 and 3200 (both included). The numbers obtained should be printed in a list.\n",
    "\n",
    "r1 = range(2000,3200)\n",
    "  \n",
    "list=[]\n",
    "for i in r1:\n",
    "    if i%7==0 and i%5!=0:\n",
    "        list.append(i)\n",
    "         \n",
    "print(list)        \n",
    "\n",
    "        \n",
    "        "
   ]
  },
  {
   "cell_type": "code",
   "execution_count": 2,
   "id": "ad8323f4",
   "metadata": {},
   "outputs": [
    {
     "name": "stdout",
     "output_type": "stream",
     "text": [
      "Donnez un numéro 2\n",
      " Le nombre est paire \n"
     ]
    }
   ],
   "source": [
    "#Algorithme Paire/Impaire\n",
    "a=int(input(\"Donnez un numéro \") )\n",
    "if a%2==0 :\n",
    "   print (\" Le nombre est paire \")\n",
    "else :\n",
    "   print (\" Le nombre est impaire \")\n",
    "\n"
   ]
  },
  {
   "cell_type": "code",
   "execution_count": null,
   "id": "76873a4f",
   "metadata": {},
   "outputs": [],
   "source": [
    "#Algorithme factoriel avec for\n",
    "a=int(input(\"donnez un numéro \"))\n",
    "if a==0 :\n",
    "        print(\" Le factoriel du nombre est : \",1)\n",
    "else :\n",
    "        x=1 \n",
    "        for i in range(1,a+1) :\n",
    "            x=x*i \n",
    "print(x)"
   ]
  },
  {
   "cell_type": "code",
   "execution_count": 32,
   "id": "330338ce",
   "metadata": {},
   "outputs": [
    {
     "name": "stdout",
     "output_type": "stream",
     "text": [
      "donnez un numéro 4\n",
      "24\n"
     ]
    }
   ],
   "source": [
    "#Algorithme factoriel avec While\n",
    "a=int(input(\"donnez un numéro \"))\n",
    "x=1 \n",
    "while 1<=a :\n",
    "        x=x*(a)\n",
    "        a=a-1\n",
    "print(x)\n"
   ]
  },
  {
   "cell_type": "code",
   "execution_count": 129,
   "id": "bcde1291",
   "metadata": {},
   "outputs": [
    {
     "name": "stdout",
     "output_type": "stream",
     "text": [
      "Donnez une phrase ou un mot : Nazim\n",
      "Donnez la position de la lettre que vous voulez enlever : 3\n",
      "Le nouveau mot est:  Nazm\n"
     ]
    }
   ],
   "source": [
    "#Programme supprimant la lettre se trouvant à une position k donnée par l'utilisateur\n",
    "ch=input (\"Donnez une phrase ou un mot : \")\n",
    "n=input(\"Donnez la position de la lettre que vous voulez enlever : \")\n",
    "n=int(n)\n",
    "ch1=\"\"\n",
    "ch2=\"\"\n",
    "for i in range(0,n):\n",
    "    ch1=ch1+ ch[i]\n",
    "for i in range(n+1,len(ch)):\n",
    "    ch1=ch1+ ch[i]\n",
    "\n",
    "print(\"Le nouveau mot est: \" , ch1)\n",
    "      "
   ]
  },
  {
   "cell_type": "code",
   "execution_count": 130,
   "id": "64cb3d79",
   "metadata": {},
   "outputs": [
    {
     "ename": "KeyboardInterrupt",
     "evalue": "Interrupted by user",
     "output_type": "error",
     "traceback": [
      "\u001b[1;31m---------------------------------------------------------------------------\u001b[0m",
      "\u001b[1;31mKeyboardInterrupt\u001b[0m                         Traceback (most recent call last)",
      "\u001b[1;32m~\\AppData\\Local\\Temp/ipykernel_14396/1283338464.py\u001b[0m in \u001b[0;36m<module>\u001b[1;34m\u001b[0m\n\u001b[1;32m----> 1\u001b[1;33m \u001b[0mn\u001b[0m\u001b[1;33m=\u001b[0m\u001b[0minput\u001b[0m\u001b[1;33m(\u001b[0m\u001b[1;34m\"Donnez la position de la lettre que vous voulez enlever : \"\u001b[0m\u001b[1;33m)\u001b[0m\u001b[1;33m\u001b[0m\u001b[1;33m\u001b[0m\u001b[0m\n\u001b[0m\u001b[0;32m      2\u001b[0m \u001b[0ma\u001b[0m\u001b[1;33m=\u001b[0m\u001b[0mlen\u001b[0m\u001b[1;33m(\u001b[0m\u001b[0mch\u001b[0m\u001b[1;33m)\u001b[0m\u001b[1;33m\u001b[0m\u001b[1;33m\u001b[0m\u001b[0m\n\u001b[0;32m      3\u001b[0m \u001b[1;32mfor\u001b[0m \u001b[0mi\u001b[0m \u001b[1;32min\u001b[0m \u001b[0mrange\u001b[0m\u001b[1;33m(\u001b[0m\u001b[0mn\u001b[0m\u001b[1;33m)\u001b[0m\u001b[1;33m:\u001b[0m\u001b[1;33m\u001b[0m\u001b[1;33m\u001b[0m\u001b[0m\n\u001b[0;32m      4\u001b[0m     \u001b[0mNewch\u001b[0m\u001b[1;33m=\u001b[0m\u001b[0mNewch\u001b[0m\u001b[1;33m+\u001b[0m\u001b[0mch\u001b[0m\u001b[1;33m[\u001b[0m\u001b[0mi\u001b[0m\u001b[1;33m]\u001b[0m\u001b[1;33m\u001b[0m\u001b[1;33m\u001b[0m\u001b[0m\n\u001b[0;32m      5\u001b[0m \u001b[1;33m\u001b[0m\u001b[0m\n",
      "\u001b[1;32m~\\anaconda3\\lib\\site-packages\\ipykernel\\kernelbase.py\u001b[0m in \u001b[0;36mraw_input\u001b[1;34m(self, prompt)\u001b[0m\n\u001b[0;32m   1004\u001b[0m                 \u001b[1;34m\"raw_input was called, but this frontend does not support input requests.\"\u001b[0m\u001b[1;33m\u001b[0m\u001b[1;33m\u001b[0m\u001b[0m\n\u001b[0;32m   1005\u001b[0m             )\n\u001b[1;32m-> 1006\u001b[1;33m         return self._input_request(\n\u001b[0m\u001b[0;32m   1007\u001b[0m             \u001b[0mstr\u001b[0m\u001b[1;33m(\u001b[0m\u001b[0mprompt\u001b[0m\u001b[1;33m)\u001b[0m\u001b[1;33m,\u001b[0m\u001b[1;33m\u001b[0m\u001b[1;33m\u001b[0m\u001b[0m\n\u001b[0;32m   1008\u001b[0m             \u001b[0mself\u001b[0m\u001b[1;33m.\u001b[0m\u001b[0m_parent_ident\u001b[0m\u001b[1;33m[\u001b[0m\u001b[1;34m\"shell\"\u001b[0m\u001b[1;33m]\u001b[0m\u001b[1;33m,\u001b[0m\u001b[1;33m\u001b[0m\u001b[1;33m\u001b[0m\u001b[0m\n",
      "\u001b[1;32m~\\anaconda3\\lib\\site-packages\\ipykernel\\kernelbase.py\u001b[0m in \u001b[0;36m_input_request\u001b[1;34m(self, prompt, ident, parent, password)\u001b[0m\n\u001b[0;32m   1049\u001b[0m             \u001b[1;32mexcept\u001b[0m \u001b[0mKeyboardInterrupt\u001b[0m\u001b[1;33m:\u001b[0m\u001b[1;33m\u001b[0m\u001b[1;33m\u001b[0m\u001b[0m\n\u001b[0;32m   1050\u001b[0m                 \u001b[1;31m# re-raise KeyboardInterrupt, to truncate traceback\u001b[0m\u001b[1;33m\u001b[0m\u001b[1;33m\u001b[0m\u001b[0m\n\u001b[1;32m-> 1051\u001b[1;33m                 \u001b[1;32mraise\u001b[0m \u001b[0mKeyboardInterrupt\u001b[0m\u001b[1;33m(\u001b[0m\u001b[1;34m\"Interrupted by user\"\u001b[0m\u001b[1;33m)\u001b[0m \u001b[1;32mfrom\u001b[0m \u001b[1;32mNone\u001b[0m\u001b[1;33m\u001b[0m\u001b[1;33m\u001b[0m\u001b[0m\n\u001b[0m\u001b[0;32m   1052\u001b[0m             \u001b[1;32mexcept\u001b[0m \u001b[0mException\u001b[0m\u001b[1;33m:\u001b[0m\u001b[1;33m\u001b[0m\u001b[1;33m\u001b[0m\u001b[0m\n\u001b[0;32m   1053\u001b[0m                 \u001b[0mself\u001b[0m\u001b[1;33m.\u001b[0m\u001b[0mlog\u001b[0m\u001b[1;33m.\u001b[0m\u001b[0mwarning\u001b[0m\u001b[1;33m(\u001b[0m\u001b[1;34m\"Invalid Message:\"\u001b[0m\u001b[1;33m,\u001b[0m \u001b[0mexc_info\u001b[0m\u001b[1;33m=\u001b[0m\u001b[1;32mTrue\u001b[0m\u001b[1;33m)\u001b[0m\u001b[1;33m\u001b[0m\u001b[1;33m\u001b[0m\u001b[0m\n",
      "\u001b[1;31mKeyboardInterrupt\u001b[0m: Interrupted by user"
     ]
    }
   ],
   "source": [
    "n=input(\"Donnez la position de la lettre que vous voulez enlever : \")\n",
    "a=len(ch)\n",
    "for i in range(n):\n",
    "    Newch=Newch+ch[i]\n",
    "\n",
    "\n",
    "print(Newch)\n",
    "        "
   ]
  },
  {
   "cell_type": "code",
   "execution_count": 37,
   "id": "2b8a7b88",
   "metadata": {},
   "outputs": [
    {
     "name": "stdout",
     "output_type": "stream",
     "text": [
      "donnez un nombre 5\n"
     ]
    },
    {
     "data": {
      "text/plain": [
       "{1: 1, 2: 4, 3: 9, 4: 16, 5: 25}"
      ]
     },
     "execution_count": 37,
     "metadata": {},
     "output_type": "execute_result"
    }
   ],
   "source": [
    "\n",
    "MyDict={}\n",
    "n=int(input(\"donnez un nombre \")) \n",
    "for i in range(1,n+1) :\n",
    "    MyDict[i]= i*i  #adding new element (new key and new value)\n",
    "MyDict"
   ]
  },
  {
   "cell_type": "code",
   "execution_count": 55,
   "id": "d57bb791",
   "metadata": {},
   "outputs": [
    {
     "name": "stdout",
     "output_type": "stream",
     "text": [
      "Donnez un nombre 300\n",
      "Le nouveau prix est 210.0\n"
     ]
    }
   ],
   "source": [
    "#Programme permettant de calculer d'articles Soldés\n",
    "a=int(input(\"Donnez un nombre \"))\n",
    "\n",
    "if a>500 :\n",
    "    a=a-(0.5)*a \n",
    "    print(\"Le nouveau prix est\",a)\n",
    "elif a>200 and a<500\n",
    "    a=a-(0.3)*a\n",
    "    print(\"Le nouveau prix est\",a)\n",
    "else  :\n",
    "    a=a-(0.1)*a\n",
    "    print(\"Le nouveau prix est\",a)"
   ]
  },
  {
   "cell_type": "code",
   "execution_count": 74,
   "id": "8c583dd0",
   "metadata": {},
   "outputs": [
    {
     "name": "stdout",
     "output_type": "stream",
     "text": [
      "[1, 2, 3, 4, 5, 6, 7, 8, 9]\n"
     ]
    }
   ],
   "source": [
    "import numpy as np \n",
    "List=[]\n",
    "a=np.array([[1,2,3],[4,5,6],[7,8,9]])\n",
    "for i in range(0,3) :\n",
    "    for j in range(0,3):\n",
    "        List.append(a[i,j])\n",
    "print(List)\n",
    "\n",
    "        \n"
   ]
  },
  {
   "cell_type": "code",
   "execution_count": 99,
   "id": "3903b62a",
   "metadata": {},
   "outputs": [
    {
     "name": "stdout",
     "output_type": "stream",
     "text": [
      "Enter size of array : 9\n",
      "Enter 1 array element :1\n",
      "Enter 2 array element :2\n",
      "Enter 3 array element :3\n",
      "Enter 4 array element :4\n",
      "Enter 5 array element :5\n",
      "Enter 6 array element :6\n",
      "Enter 7 array element :7\n",
      "Enter 8 array element :8\n",
      "Enter 9 array element :9\n",
      "All array elements are : 1 2 3 4 5 6 7 8 9 Donnez la taille de vôtre Matrice mxn3 3\n",
      "[[1, 2, 3], [4, 5, 6], [7, 8, 9]]\n"
     ]
    }
   ],
   "source": [
    "#Programme permettant d'entrée un vecteur , le transformer en Matrice puis en liste \n",
    "\n",
    "import array as arr\n",
    "import numpy as np \n",
    "\n",
    "a = arr.array('i', [])\n",
    "k = int(input(\"Entrée la taille de vôtre vecteur: \"))\n",
    "\n",
    "for i in range(0, k):\n",
    "    num = int(input(\"Entrez l'élément %d du vecteur :\" %(i + 1))) # Demander les valeurs du vecteur à l'utilisateur\n",
    "    a.append(num)\n",
    "    \n",
    "m, n = input(\"Donnez la taille de vôtre Matrice mxn\").split() #Taille de la matrice\n",
    "m=int(m)\n",
    "n=int(n)\n",
    "\n",
    "A=np.reshape(a,(m,n))\n",
    "l = A.tolist()\n",
    "print(l)\n",
    "    "
   ]
  },
  {
   "cell_type": "code",
   "execution_count": 101,
   "id": "cd6a842c",
   "metadata": {},
   "outputs": [
    {
     "name": "stdout",
     "output_type": "stream",
     "text": [
      "[[1, 2, 3, 4], [5, 6, 7, 8]]\n"
     ]
    }
   ],
   "source": [
    "#Transformation d'une matrice en liste\n",
    "a=np.array([[1,2,3,4],[5,6,7,8]])\n",
    "l = a.tolist()\n",
    "print(l)"
   ]
  },
  {
   "cell_type": "code",
   "execution_count": 133,
   "id": "418daede",
   "metadata": {},
   "outputs": [
    {
     "name": "stdout",
     "output_type": "stream",
     "text": [
      "Donnez les valeurs de D 100,150,200\n",
      "[18, 22, 26]\n"
     ]
    }
   ],
   "source": [
    "\n",
    "import math \n",
    "Q=[]\n",
    "D=input(\"Donnez les valeurs de D \").split(\",\")\n",
    "a=len(D)\n",
    "\n",
    "for i in range(0,a):\n",
    "    Q.append(round(math.sqrt(10*int(D[i])/3)))\n",
    "    \n",
    "print(Q)\n",
    "\n",
    "\n",
    "\n"
   ]
  },
  {
   "cell_type": "code",
   "execution_count": 135,
   "id": "f683caff",
   "metadata": {},
   "outputs": [
    {
     "data": {
      "text/plain": [
       "array([[ 1., -1.],\n",
       "       [-1.,  1.]])"
      ]
     },
     "execution_count": 135,
     "metadata": {},
     "output_type": "execute_result"
    }
   ],
   "source": [
    "#NumPy program to compute the covariance matrix of two given arrays.\n",
    "import numpy as np\n",
    "a=np.array([[0,1,2]])\n",
    "b=np.array([[2,1,0]])\n",
    "np.cov(a,b)"
   ]
  },
  {
   "cell_type": "code",
   "execution_count": null,
   "id": "13329435",
   "metadata": {},
   "outputs": [],
   "source": []
  }
 ],
 "metadata": {
  "kernelspec": {
   "display_name": "Python 3 (ipykernel)",
   "language": "python",
   "name": "python3"
  },
  "language_info": {
   "codemirror_mode": {
    "name": "ipython",
    "version": 3
   },
   "file_extension": ".py",
   "mimetype": "text/x-python",
   "name": "python",
   "nbconvert_exporter": "python",
   "pygments_lexer": "ipython3",
   "version": "3.9.7"
  }
 },
 "nbformat": 4,
 "nbformat_minor": 5
}
